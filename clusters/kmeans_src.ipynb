{
 "cells": [
  {
   "cell_type": "code",
   "execution_count": 1,
   "metadata": {},
   "outputs": [],
   "source": [
    "from math import sqrt\n",
    "import pandas as pd\n",
    "import matplotlib.pyplot as plt\n",
    "import random"
   ]
  },
  {
   "cell_type": "code",
   "execution_count": 2,
   "metadata": {},
   "outputs": [],
   "source": [
    "# carregar o dataset\n",
    "dados = pd.read_csv('Iris/Iris.csv')"
   ]
  },
  {
   "cell_type": "code",
   "execution_count": 3,
   "metadata": {},
   "outputs": [
    {
     "data": {
      "text/html": [
       "<div>\n",
       "<style scoped>\n",
       "    .dataframe tbody tr th:only-of-type {\n",
       "        vertical-align: middle;\n",
       "    }\n",
       "\n",
       "    .dataframe tbody tr th {\n",
       "        vertical-align: top;\n",
       "    }\n",
       "\n",
       "    .dataframe thead th {\n",
       "        text-align: right;\n",
       "    }\n",
       "</style>\n",
       "<table border=\"1\" class=\"dataframe\">\n",
       "  <thead>\n",
       "    <tr style=\"text-align: right;\">\n",
       "      <th></th>\n",
       "      <th>Id</th>\n",
       "      <th>SepalLengthCm</th>\n",
       "      <th>SepalWidthCm</th>\n",
       "      <th>PetalLengthCm</th>\n",
       "      <th>PetalWidthCm</th>\n",
       "      <th>Species</th>\n",
       "    </tr>\n",
       "  </thead>\n",
       "  <tbody>\n",
       "    <tr>\n",
       "      <th>0</th>\n",
       "      <td>1</td>\n",
       "      <td>5.1</td>\n",
       "      <td>3.5</td>\n",
       "      <td>1.4</td>\n",
       "      <td>0.2</td>\n",
       "      <td>Iris-setosa</td>\n",
       "    </tr>\n",
       "    <tr>\n",
       "      <th>1</th>\n",
       "      <td>2</td>\n",
       "      <td>4.9</td>\n",
       "      <td>3.0</td>\n",
       "      <td>1.4</td>\n",
       "      <td>0.2</td>\n",
       "      <td>Iris-setosa</td>\n",
       "    </tr>\n",
       "    <tr>\n",
       "      <th>2</th>\n",
       "      <td>3</td>\n",
       "      <td>4.7</td>\n",
       "      <td>3.2</td>\n",
       "      <td>1.3</td>\n",
       "      <td>0.2</td>\n",
       "      <td>Iris-setosa</td>\n",
       "    </tr>\n",
       "    <tr>\n",
       "      <th>3</th>\n",
       "      <td>4</td>\n",
       "      <td>4.6</td>\n",
       "      <td>3.1</td>\n",
       "      <td>1.5</td>\n",
       "      <td>0.2</td>\n",
       "      <td>Iris-setosa</td>\n",
       "    </tr>\n",
       "    <tr>\n",
       "      <th>4</th>\n",
       "      <td>5</td>\n",
       "      <td>5.0</td>\n",
       "      <td>3.6</td>\n",
       "      <td>1.4</td>\n",
       "      <td>0.2</td>\n",
       "      <td>Iris-setosa</td>\n",
       "    </tr>\n",
       "  </tbody>\n",
       "</table>\n",
       "</div>"
      ],
      "text/plain": [
       "   Id  SepalLengthCm  SepalWidthCm  PetalLengthCm  PetalWidthCm      Species\n",
       "0   1            5.1           3.5            1.4           0.2  Iris-setosa\n",
       "1   2            4.9           3.0            1.4           0.2  Iris-setosa\n",
       "2   3            4.7           3.2            1.3           0.2  Iris-setosa\n",
       "3   4            4.6           3.1            1.5           0.2  Iris-setosa\n",
       "4   5            5.0           3.6            1.4           0.2  Iris-setosa"
      ]
     },
     "execution_count": 3,
     "metadata": {},
     "output_type": "execute_result"
    }
   ],
   "source": [
    "dados.head()"
   ]
  },
  {
   "cell_type": "code",
   "execution_count": 4,
   "metadata": {},
   "outputs": [],
   "source": [
    "# Primeiro definimos a função para calculo de distância.\n",
    "def euclidian(v1,v2):\n",
    "    \"\"\"Essa função recebe duas\n",
    "       listas e retorna a\n",
    "       distancia entre elas\"\"\"\n",
    " \n",
    "    #Armazena o quadrado da distância\n",
    "    dist = 0.0\n",
    "    for x in range(len(v1)):\n",
    "        dist += pow((v1[x] - v2[x]),2)\n",
    " \n",
    "    #Tira a raiz quadrada da soma\n",
    "    eucli = sqrt(dist)\n",
    "    return eucli"
   ]
  },
  {
   "cell_type": "code",
   "execution_count": 7,
   "metadata": {},
   "outputs": [
    {
     "ename": "IndentationError",
     "evalue": "expected an indented block (<ipython-input-7-730ffb311758>, line 27)",
     "output_type": "error",
     "traceback": [
      "\u001b[0;36m  File \u001b[0;32m\"<ipython-input-7-730ffb311758>\"\u001b[0;36m, line \u001b[0;32m27\u001b[0m\n\u001b[0;31m    for rowid in bestmatches[i]:\u001b[0m\n\u001b[0m      ^\u001b[0m\n\u001b[0;31mIndentationError\u001b[0m\u001b[0;31m:\u001b[0m expected an indented block\n"
     ]
    }
   ],
   "source": [
    "def Kcluster(data,distance=euclidian,k=3):\n",
    "    #Determina o valor máximo e mínimo para cada atributo\n",
    "    #Cria uma lista de tuplas que contem valores máximos e mínimos de cada atributo\n",
    "    ranges = [(min([row[i] for row in data]),\n",
    "               max([row[i] for row in data]))\n",
    "               for i in range(len(data[0]))]\n",
    " \n",
    "   #Cria K centroides aleatórias\n",
    "   #Cria uma lista contendo os K centroides em posições aleatorias.\n",
    "   #No nosso caso serão 3\n",
    "    clusters=[[random.random()*(ranges[i][1] - ranges[i][0])+ranges[i][0]\n",
    "               for i in range(len(data[0]))] for j in range(k)]\n",
    " \n",
    "    lastmatches = None\n",
    " \n",
    "    #O número de iterações será no máximo 100\n",
    "    for t in range(100):\n",
    "        bestmatches = [[] for i in range(k)] #Cria uma lista contendo 3 lista vazias\n",
    " \n",
    "        #Verifica qual centroide esta mais perto de cada instância\n",
    "        for j in range(len(data)):\n",
    "            row=data[j]\n",
    "            bestmatche = 0 #Aqui armazeno o índice da menor distância para comparação\n",
    "            for i in range(k):\n",
    "                d = distance(clusters[i],row) #Calcula a distancia em relação ao centroide\n",
    "                if distance(clusters[bestmatche],row): #Aqui vejo se é a menor distância                     bestmatche = i             bestmatches[bestmatche].append(j) #Aqui coloco a instância no seu cluster                 #Se o resultado for o mesmo que da ultima vez esta completo         if bestmatches == lastmatches:             break         lastmatches=bestmatche             #Move o centroide para a zona média do cluster        #no caso recalculamos as distancias em relação as instâncias e movemo para aquele ponto         # em que teremos a menor média para as distâncias.         for i in range(k):             avgs=[0.0]*len(data[0]) #Cria a lista de médias             if len(bestmatches[i])&amp;amp;gt;0:\n",
    "                for rowid in bestmatches[i]:\n",
    "                    for m in range(len(data[rowid])):\n",
    "                        avgs[m] += data[rowid][m]\n",
    "                for j in range(len(avgs)):\n",
    "                    avgs[j] /= len(bestmatches[i])\n",
    "                clusters[i]=avgs\n",
    " \n",
    "    return bestmatches"
   ]
  },
  {
   "cell_type": "code",
   "execution_count": null,
   "metadata": {},
   "outputs": [],
   "source": []
  }
 ],
 "metadata": {
  "kernelspec": {
   "display_name": "Python 3",
   "language": "python",
   "name": "python3"
  },
  "language_info": {
   "codemirror_mode": {
    "name": "ipython",
    "version": 3
   },
   "file_extension": ".py",
   "mimetype": "text/x-python",
   "name": "python",
   "nbconvert_exporter": "python",
   "pygments_lexer": "ipython3",
   "version": "3.5.2"
  }
 },
 "nbformat": 4,
 "nbformat_minor": 2
}
